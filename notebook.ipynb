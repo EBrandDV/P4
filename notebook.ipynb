{
 "cells": [
  {
   "attachments": {},
   "cell_type": "markdown",
   "metadata": {},
   "source": [
    "# README"
   ]
  },
  {
   "attachments": {},
   "cell_type": "markdown",
   "metadata": {},
   "source": [
    "# Imports"
   ]
  },
  {
   "cell_type": "code",
   "execution_count": 2,
   "metadata": {},
   "outputs": [],
   "source": [
    "import pandas as pd\n",
    "import matplotlib.pyplot as plt\n",
    "import numpy as np"
   ]
  },
  {
   "attachments": {},
   "cell_type": "markdown",
   "metadata": {},
   "source": [
    "# Load data"
   ]
  },
  {
   "cell_type": "code",
   "execution_count": 3,
   "metadata": {},
   "outputs": [],
   "source": [
    "file_path = 'Data\\struct3.csv'\n",
    "data = pd.read_csv(file_path)"
   ]
  },
  {
   "attachments": {},
   "cell_type": "markdown",
   "metadata": {},
   "source": [
    "## Separate 'dbpedia' and 'wikidata' datasets"
   ]
  },
  {
   "cell_type": "code",
   "execution_count": 4,
   "metadata": {},
   "outputs": [],
   "source": [
    "dbpedia_data = data[data['File'].str.contains('dbpedia')].drop(columns= ['Unnamed: 0'])\n",
    "wiki_data = data[data['File'].str.contains('wiki')].drop(columns= ['Unnamed: 0'])"
   ]
  },
  {
   "attachments": {},
   "cell_type": "markdown",
   "metadata": {},
   "source": [
    "# Function for plotting"
   ]
  },
  {
   "cell_type": "code",
   "execution_count": 11,
   "metadata": {},
   "outputs": [],
   "source": [
    "legend_mapping = {\n",
    "                    'KD': 'Knowledge Degree', 'VocUni': 'Vocabulary Uniqueness', \n",
    "                    'Vdyn': 'Vocabulary Dynamicity', 'AddVdyn': 'Addition Vdyn', \n",
    "                    'RemVdyn': 'Removal Vdyn', 'ChangeRatio': 'Change Ratio', \n",
    "                    'AddCR': 'Addition Change Ratio', \n",
    "                    'RemCR': 'Removal Change Ratio', 'Growth': 'Growth'\n",
    "                }\n",
    "\n",
    "def plot_parameters_over_versions(df, parameters, markers, title, output_file_name, \n",
    "                                    legend_mapping= legend_mapping, \n",
    "                                    x_label='Ratio', save_image= False,\n",
    "                                    show_plot= False):\n",
    "    for parameter, marker in zip(parameters, markers):\n",
    "        legend_name = legend_mapping[parameter] if legend_mapping is not None else parameter\n",
    "        plt.plot(df['Version'], df[parameter], marker=marker, linestyle='-', label=legend_name)\n",
    "\n",
    "    plt.xlabel('Version')\n",
    "    plt.ylabel(x_label)\n",
    "    plt.title(title)\n",
    "    plt.legend()\n",
    "    plt.grid(axis='both', color='0.85')\n",
    "    plt.xticks(np.arange(0, len(df[parameter])+1, 1))\n",
    "    if save_image: plt.savefig(output_file_name, dpi=300, bbox_inches='tight')\n",
    "    if show_plot: plt.show()"
   ]
  },
  {
   "attachments": {},
   "cell_type": "markdown",
   "metadata": {},
   "source": [
    "# Introductory data description"
   ]
  },
  {
   "attachments": {},
   "cell_type": "markdown",
   "metadata": {},
   "source": [
    "## Top K most common"
   ]
  },
  {
   "cell_type": "code",
   "execution_count": 4,
   "metadata": {},
   "outputs": [],
   "source": [
    "df = pd.read_csv('ipr_set.csv', delimiter= ';')"
   ]
  },
  {
   "cell_type": "code",
   "execution_count": 7,
   "metadata": {},
   "outputs": [
    {
     "data": {
      "text/html": [
       "<div>\n",
       "<style scoped>\n",
       "    .dataframe tbody tr th:only-of-type {\n",
       "        vertical-align: middle;\n",
       "    }\n",
       "\n",
       "    .dataframe tbody tr th {\n",
       "        vertical-align: top;\n",
       "    }\n",
       "\n",
       "    .dataframe thead th {\n",
       "        text-align: right;\n",
       "    }\n",
       "</style>\n",
       "<table border=\"1\" class=\"dataframe\">\n",
       "  <thead>\n",
       "    <tr style=\"text-align: right;\">\n",
       "      <th></th>\n",
       "      <th>Graph</th>\n",
       "      <th>Graph - Ont check</th>\n",
       "      <th>len(Graph - Ont check)</th>\n",
       "      <th>Ont - Graph check</th>\n",
       "      <th>len(Ont - Graph check)</th>\n",
       "      <th>Graph set lenght</th>\n",
       "      <th>Ont set lenght</th>\n",
       "    </tr>\n",
       "  </thead>\n",
       "  <tbody>\n",
       "    <tr>\n",
       "      <th>0</th>\n",
       "      <td>http://example.com/dbpedia_3-5</td>\n",
       "      <td>{'http://xmlns.com/foaf/0.1/givenName', 'http:...</td>\n",
       "      <td>15</td>\n",
       "      <td>{'http://dbpedia.org/ontology/manxName', 'http...</td>\n",
       "      <td>245</td>\n",
       "      <td>1044</td>\n",
       "      <td>1274</td>\n",
       "    </tr>\n",
       "    <tr>\n",
       "      <th>1</th>\n",
       "      <td>http://example.com/dbpedia_3-5-1</td>\n",
       "      <td>{'http://xmlns.com/foaf/0.1/givenName', 'http:...</td>\n",
       "      <td>15</td>\n",
       "      <td>{'http://dbpedia.org/ontology/manxName', 'http...</td>\n",
       "      <td>242</td>\n",
       "      <td>1049</td>\n",
       "      <td>1276</td>\n",
       "    </tr>\n",
       "    <tr>\n",
       "      <th>2</th>\n",
       "      <td>http://example.com/dbpedia_2015-04</td>\n",
       "      <td>{'http://xmlns.com/foaf/0.1/thumbnail', 'http:...</td>\n",
       "      <td>39</td>\n",
       "      <td>{'http://dbpedia.org/ontology/enginePower', 'h...</td>\n",
       "      <td>1483</td>\n",
       "      <td>1375</td>\n",
       "      <td>2819</td>\n",
       "    </tr>\n",
       "    <tr>\n",
       "      <th>3</th>\n",
       "      <td>http://example.com/dbpedia_2015-10</td>\n",
       "      <td>{'http://xmlns.com/foaf/0.1/thumbnail', 'http:...</td>\n",
       "      <td>38</td>\n",
       "      <td>{'http://dbpedia.org/ontology/enginePower', 'h...</td>\n",
       "      <td>1490</td>\n",
       "      <td>1381</td>\n",
       "      <td>2833</td>\n",
       "    </tr>\n",
       "    <tr>\n",
       "      <th>4</th>\n",
       "      <td>http://example.com/dbpedia_2016-04</td>\n",
       "      <td>{'http://xmlns.com/foaf/0.1/thumbnail', 'http:...</td>\n",
       "      <td>37</td>\n",
       "      <td>{'http://dbpedia.org/ontology/enginePower', 'h...</td>\n",
       "      <td>1495</td>\n",
       "      <td>1391</td>\n",
       "      <td>2849</td>\n",
       "    </tr>\n",
       "    <tr>\n",
       "      <th>5</th>\n",
       "      <td>http://example.com/dbpedia_2016-10</td>\n",
       "      <td>{'http://xmlns.com/foaf/0.1/thumbnail', 'http:...</td>\n",
       "      <td>39</td>\n",
       "      <td>{'http://dbpedia.org/ontology/enginePower', 'h...</td>\n",
       "      <td>1510</td>\n",
       "      <td>1394</td>\n",
       "      <td>2865</td>\n",
       "    </tr>\n",
       "    <tr>\n",
       "      <th>6</th>\n",
       "      <td>http://example.com/dbpedia_3-6</td>\n",
       "      <td>{'http://xmlns.com/foaf/0.1/thumbnail', 'http:...</td>\n",
       "      <td>18</td>\n",
       "      <td>{'http://dbpedia.org/ontology/manxName', 'http...</td>\n",
       "      <td>246</td>\n",
       "      <td>1107</td>\n",
       "      <td>1335</td>\n",
       "    </tr>\n",
       "    <tr>\n",
       "      <th>7</th>\n",
       "      <td>http://example.com/dbpedia_3-7</td>\n",
       "      <td>{'http://xmlns.com/foaf/0.1/thumbnail', 'http:...</td>\n",
       "      <td>24</td>\n",
       "      <td>{'http://dbpedia.org/ontology/manxName', 'http...</td>\n",
       "      <td>363</td>\n",
       "      <td>1304</td>\n",
       "      <td>1643</td>\n",
       "    </tr>\n",
       "    <tr>\n",
       "      <th>8</th>\n",
       "      <td>http://example.com/dbpedia_3-8</td>\n",
       "      <td>{'http://xmlns.com/foaf/0.1/thumbnail', 'http:...</td>\n",
       "      <td>22</td>\n",
       "      <td>{'http://dbpedia.org/ontology/manxName', 'http...</td>\n",
       "      <td>476</td>\n",
       "      <td>1321</td>\n",
       "      <td>1775</td>\n",
       "    </tr>\n",
       "    <tr>\n",
       "      <th>9</th>\n",
       "      <td>http://example.com/dbpedia_3-9</td>\n",
       "      <td>{'http://xmlns.com/foaf/0.1/thumbnail', 'http:...</td>\n",
       "      <td>24</td>\n",
       "      <td>{'http://dbpedia.org/ontology/manxName', 'http...</td>\n",
       "      <td>975</td>\n",
       "      <td>1382</td>\n",
       "      <td>2333</td>\n",
       "    </tr>\n",
       "  </tbody>\n",
       "</table>\n",
       "</div>"
      ],
      "text/plain": [
       "                                Graph  \\\n",
       "0      http://example.com/dbpedia_3-5   \n",
       "1    http://example.com/dbpedia_3-5-1   \n",
       "2  http://example.com/dbpedia_2015-04   \n",
       "3  http://example.com/dbpedia_2015-10   \n",
       "4  http://example.com/dbpedia_2016-04   \n",
       "5  http://example.com/dbpedia_2016-10   \n",
       "6      http://example.com/dbpedia_3-6   \n",
       "7      http://example.com/dbpedia_3-7   \n",
       "8      http://example.com/dbpedia_3-8   \n",
       "9      http://example.com/dbpedia_3-9   \n",
       "\n",
       "                                   Graph - Ont check  len(Graph - Ont check)  \\\n",
       "0  {'http://xmlns.com/foaf/0.1/givenName', 'http:...                      15   \n",
       "1  {'http://xmlns.com/foaf/0.1/givenName', 'http:...                      15   \n",
       "2  {'http://xmlns.com/foaf/0.1/thumbnail', 'http:...                      39   \n",
       "3  {'http://xmlns.com/foaf/0.1/thumbnail', 'http:...                      38   \n",
       "4  {'http://xmlns.com/foaf/0.1/thumbnail', 'http:...                      37   \n",
       "5  {'http://xmlns.com/foaf/0.1/thumbnail', 'http:...                      39   \n",
       "6  {'http://xmlns.com/foaf/0.1/thumbnail', 'http:...                      18   \n",
       "7  {'http://xmlns.com/foaf/0.1/thumbnail', 'http:...                      24   \n",
       "8  {'http://xmlns.com/foaf/0.1/thumbnail', 'http:...                      22   \n",
       "9  {'http://xmlns.com/foaf/0.1/thumbnail', 'http:...                      24   \n",
       "\n",
       "                                   Ont - Graph check  len(Ont - Graph check)  \\\n",
       "0  {'http://dbpedia.org/ontology/manxName', 'http...                     245   \n",
       "1  {'http://dbpedia.org/ontology/manxName', 'http...                     242   \n",
       "2  {'http://dbpedia.org/ontology/enginePower', 'h...                    1483   \n",
       "3  {'http://dbpedia.org/ontology/enginePower', 'h...                    1490   \n",
       "4  {'http://dbpedia.org/ontology/enginePower', 'h...                    1495   \n",
       "5  {'http://dbpedia.org/ontology/enginePower', 'h...                    1510   \n",
       "6  {'http://dbpedia.org/ontology/manxName', 'http...                     246   \n",
       "7  {'http://dbpedia.org/ontology/manxName', 'http...                     363   \n",
       "8  {'http://dbpedia.org/ontology/manxName', 'http...                     476   \n",
       "9  {'http://dbpedia.org/ontology/manxName', 'http...                     975   \n",
       "\n",
       "   Graph set lenght  Ont set lenght  \n",
       "0              1044            1274  \n",
       "1              1049            1276  \n",
       "2              1375            2819  \n",
       "3              1381            2833  \n",
       "4              1391            2849  \n",
       "5              1394            2865  \n",
       "6              1107            1335  \n",
       "7              1304            1643  \n",
       "8              1321            1775  \n",
       "9              1382            2333  "
      ]
     },
     "execution_count": 7,
     "metadata": {},
     "output_type": "execute_result"
    }
   ],
   "source": [
    "df"
   ]
  },
  {
   "attachments": {},
   "cell_type": "markdown",
   "metadata": {},
   "source": [
    "# Structural measures of evolution"
   ]
  },
  {
   "attachments": {},
   "cell_type": "markdown",
   "metadata": {},
   "source": [
    "## Growth ratio"
   ]
  },
  {
   "cell_type": "code",
   "execution_count": 10,
   "metadata": {},
   "outputs": [
    {
     "data": {
      "image/png": "[encoded data removed]",
      "text/plain": [
       "<Figure size 432x288 with 1 Axes>"
      ]
     },
     "metadata": {
      "needs_background": "light"
     },
     "output_type": "display_data"
    },
    {
     "data": {
      "image/png": "[encoded data removed]",
      "text/plain": [
       "<Figure size 432x288 with 1 Axes>"
      ]
     },
     "metadata": {
      "needs_background": "light"
     },
     "output_type": "display_data"
    }
   ],
   "source": [
    "plot_parameters_over_versions(dbpedia_data, ['Growth'], ['.'],\"DBpedia Growth over Versions\", 'dbpedia_Growth.png', legend_mapping=legend_mapping)\n",
    "plot_parameters_over_versions(wiki_data, ['Growth'], ['.'],\"Wikidata Growth over Versions\", 'wiki_Growth.png', legend_mapping=legend_mapping)"
   ]
  },
  {
   "attachments": {},
   "cell_type": "markdown",
   "metadata": {},
   "source": [
    "## Density"
   ]
  },
  {
   "attachments": {},
   "cell_type": "markdown",
   "metadata": {},
   "source": [
    "# Measuring evolution of content"
   ]
  },
  {
   "attachments": {},
   "cell_type": "markdown",
   "metadata": {},
   "source": [
    "## Knowledge degree"
   ]
  },
  {
   "attachments": {},
   "cell_type": "markdown",
   "metadata": {},
   "source": [
    "## Change ratio"
   ]
  },
  {
   "attachments": {},
   "cell_type": "markdown",
   "metadata": {},
   "source": [
    "## Vocabulary"
   ]
  },
  {
   "attachments": {},
   "cell_type": "markdown",
   "metadata": {},
   "source": [
    "### Vocabulary set"
   ]
  },
  {
   "attachments": {},
   "cell_type": "markdown",
   "metadata": {},
   "source": [
    "### Vocabulary uniqueness"
   ]
  },
  {
   "attachments": {},
   "cell_type": "markdown",
   "metadata": {},
   "source": [
    "### Vocabulary dynamicity"
   ]
  },
  {
   "attachments": {},
   "cell_type": "markdown",
   "metadata": {},
   "source": [
    "# Measuring quality between versions"
   ]
  },
  {
   "attachments": {},
   "cell_type": "markdown",
   "metadata": {},
   "source": [
    "## Instantiated class ratio"
   ]
  },
  {
   "attachments": {},
   "cell_type": "markdown",
   "metadata": {},
   "source": [
    "## Instantiated property ratio"
   ]
  },
  {
   "attachments": {},
   "cell_type": "markdown",
   "metadata": {},
   "source": [
    "## Inverse multiple inheritance number"
   ]
  }
 ],
 "metadata": {
  "kernelspec": {
   "display_name": "base",
   "language": "python",
   "name": "python3"
  },
  "language_info": {
   "codemirror_mode": {
    "name": "ipython",
    "version": 3
   },
   "file_extension": ".py",
   "mimetype": "text/x-python",
   "name": "python",
   "nbconvert_exporter": "python",
   "pygments_lexer": "ipython3",
   "version": "3.8.5"
  },
  "orig_nbformat": 4
 },
 "nbformat": 4,
 "nbformat_minor": 2
}
