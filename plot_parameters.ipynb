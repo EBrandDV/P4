{
 "cells": [
  {
   "cell_type": "code",
   "execution_count": null,
   "metadata": {},
   "outputs": [],
   "source": [
    "import pandas as pd\n",
    "import matplotlib.pyplot as plt\n",
    "import numpy as np"
   ]
  },
  {
   "cell_type": "code",
   "execution_count": null,
   "metadata": {},
   "outputs": [],
   "source": [
    "# Load the data from the CSV file\n",
    "file_path = 'Data\\struct4.csv'\n",
    "data = pd.read_csv(file_path)"
   ]
  },
  {
   "cell_type": "code",
   "execution_count": null,
   "metadata": {},
   "outputs": [],
   "source": [
    "# Separate the data into 'dbpedia' and 'wiki' datasets\n",
    "dbpedia_data = data[data['File'].str.contains('dbpedia')].drop(columns= ['Unnamed: 0'])\n",
    "wiki_data = data[data['File'].str.contains('wiki')].drop(columns= ['Unnamed: 0'])"
   ]
  },
  {
   "cell_type": "code",
   "execution_count": null,
   "metadata": {},
   "outputs": [],
   "source": [
    "wiki_data"
   ]
  },
  {
   "cell_type": "code",
   "execution_count": null,
   "metadata": {},
   "outputs": [],
   "source": []
  },
  {
   "cell_type": "code",
   "execution_count": null,
   "metadata": {},
   "outputs": [],
   "source": [
    "def plot_parameters_over_versions(df, parameters, markers, title, output_file_name, legend_mapping=None, y_label='Ratio'):\n",
    "    for parameter, marker in zip(parameters, markers):\n",
    "        legend_name = legend_mapping[parameter] if legend_mapping is not None else parameter\n",
    "        plt.plot(df['Version'], df[parameter], marker=marker, linestyle='-', label=legend_name)\n",
    "\n",
    "    plt.xlabel('Version')\n",
    "    plt.ylabel(y_label)\n",
    "    plt.title(title)\n",
    "    plt.legend()\n",
    "    plt.grid(axis='both', color='0.85')\n",
    "    plt.xticks(np.arange(0, len(df[parameter])+1, 1))\n",
    "    plt.savefig(f'plots/{output_file_name}', dpi=300, bbox_inches='tight')\n",
    "    plt.show()\n",
    "\n",
    "legend_mapping = {'KD': 'Knowledge Degree', 'VocUni': 'Vocabulary Uniqueness', 'Vdyn': 'Vocabulary Dynamicity', 'AddVdyn': 'Addition Vdyn', 'RemVdyn': 'Removal Vdyn', 'ChangeRatio': 'Change Ratio', 'AddCR': 'Addition Change Ratio', 'RemCR': 'Removal Change Ratio', 'Growth': 'Growth'}\n",
    "\n",
    "\n",
    "# Plot parameters for the 'dbpedia' dataset\n",
    "plot_parameters_over_versions(dbpedia_data, ['Density'], ['.'], \"DBpedia Density over Versions\", 'dbpedia_Density.png', y_label='Density')\n",
    "plot_parameters_over_versions(dbpedia_data, ['KD'], ['.'], \"DBpedia Knowledge Degree over Versions\", 'dbpedia_KD.png', legend_mapping=legend_mapping, y_label='Knowledge Degree')\n",
    "plot_parameters_over_versions(dbpedia_data, ['VocUni'], ['.'], \"DBpedia Vocabulary Uniqueness over Versions\", 'dbpedia_VocUni.png', legend_mapping=legend_mapping)\n",
    "plot_parameters_over_versions(dbpedia_data, ['Vdyn', 'AddVdyn', 'RemVdyn'], ['.', '+', 'x'], \"DBpedia Vocabulary Dynamicity over Versions\", 'dbpedia_Vdyn.png', legend_mapping=legend_mapping)\n",
    "plot_parameters_over_versions(dbpedia_data, ['ChangeRatio', 'AddCR', 'RemCR'], ['.', '+', 'x'], \"DBpedia Change Ratio over Versions\", 'dbpedia_ChangeRatio.png', legend_mapping=legend_mapping)\n",
    "plot_parameters_over_versions(dbpedia_data, ['Growth'], ['.'],\"DBpedia Growth over Versions\", 'dbpedia_Growth.png', legend_mapping=legend_mapping)\n",
    "\n",
    "# Plot parameters for the 'wiki' dataset\n",
    "plot_parameters_over_versions(wiki_data, ['Density'], ['.'], \"Wikidata Density over Versions\", 'wiki_Density.png', y_label='Density')\n",
    "plot_parameters_over_versions(wiki_data, ['KD'], ['.'], \"Wikidata Knowledge Degree over Versions\", 'wiki_KD.png', legend_mapping=legend_mapping, y_label='Knowledge Degree')\n",
    "plot_parameters_over_versions(wiki_data, ['VocUni'], ['.'], \"Wikidata Vocabulary Uniqueness over Versions\", 'wiki_VocUni.png')\n",
    "plot_parameters_over_versions(wiki_data, ['Vdyn', 'AddVdyn', 'RemVdyn'], ['.', '+', 'x'],\"Wikidata Vocabulary Dynamicity over Versions\", 'wiki_Vdyn.png', legend_mapping=legend_mapping)\n",
    "plot_parameters_over_versions(wiki_data, ['ChangeRatio', 'AddCR', 'RemCR'], ['.', '+', 'x'],\"Wikidata Change Ratio over Versions\", 'wiki_ChangeRatio.png', legend_mapping=legend_mapping)\n",
    "plot_parameters_over_versions(wiki_data, ['Growth'], ['.'],\"Wikidata Growth over Versions\", 'wiki_Growth.png', legend_mapping=legend_mapping)"
   ]
  }
 ],
 "metadata": {
  "kernelspec": {
   "display_name": "Python 3",
   "language": "python",
   "name": "python3"
  },
  "language_info": {
   "codemirror_mode": {
    "name": "ipython",
    "version": 3
   },
   "file_extension": ".py",
   "mimetype": "text/x-python",
   "name": "python",
   "nbconvert_exporter": "python",
   "pygments_lexer": "ipython3",
   "version": "3.10.11"
  },
  "orig_nbformat": 4
 },
 "nbformat": 4,
 "nbformat_minor": 2
}
